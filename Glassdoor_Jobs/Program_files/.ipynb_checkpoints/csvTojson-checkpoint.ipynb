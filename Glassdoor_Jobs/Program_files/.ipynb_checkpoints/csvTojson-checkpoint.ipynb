{
 "cells": [
  {
   "cell_type": "code",
   "execution_count": 1,
   "id": "49d85265-5942-4c42-b198-f362b76e32dc",
   "metadata": {},
   "outputs": [],
   "source": [
    "import csv\n",
    "import json"
   ]
  },
  {
   "cell_type": "code",
   "execution_count": 10,
   "id": "b74aa41a-882a-4627-b285-c293a922c3fa",
   "metadata": {},
   "outputs": [],
   "source": [
    "# Specify the input file names\n",
    "csv_file = 'C:\\A_Sheena\\Cyber\\Module_16Pj3\\Project_3\\Resources\\glassdoor.csv'\n",
    "\n",
    "# Specify the output file names\n",
    "json_file = 'C:\\A_Sheena\\Cyber\\Module_16Pj3\\Project_3\\Resources\\glassdoor.json'"
   ]
  },
  {
   "cell_type": "code",
   "execution_count": 11,
   "id": "88a8285b-446c-4725-8a95-8c4dd7d5d815",
   "metadata": {},
   "outputs": [],
   "source": [
    "# Read data from the CSV file and store it in a list of dictionaries\n",
    "data = []\n",
    "with open(csv_file, 'r') as csvf:\n",
    "    csv_reader = csv.DictReader(csvf)\n",
    "    for row in csv_reader:\n",
    "        data.append(row)\n"
   ]
  },
  {
   "cell_type": "code",
   "execution_count": 12,
   "id": "cedc7029-c7d9-4f96-81f1-db8fde724269",
   "metadata": {},
   "outputs": [
    {
     "name": "stdout",
     "output_type": "stream",
     "text": [
      "CSV file \"C:\\A_Sheena\\Cyber\\Module_16Pj3\\Project_3\\Resources\\glassdoor.csv\" has been converted to JSON file \"C:\\A_Sheena\\Cyber\\Module_16Pj3\\Project_3\\Resources\\glassdoor.json\".\n"
     ]
    }
   ],
   "source": [
    "# Convert the data to JSON and write it to the output file\n",
    "with open(json_file, 'w') as jsonf:\n",
    "    json.dump(data, jsonf, indent=4)\n",
    "\n",
    "print(f'CSV file \"{csv_file}\" has been converted to JSON file \"{json_file}\".')"
   ]
  },
  {
   "cell_type": "code",
   "execution_count": 13,
   "id": "7e98cbbc-2de2-43db-a338-4b2479a9e3b8",
   "metadata": {},
   "outputs": [],
   "source": [
    "# Specify the input file names\n",
    "csv_file2 = 'C:\\A_Sheena\\Cyber\\Module_16Pj3\\Project_3\\Resources\\states.csv'\n",
    "\n",
    "# Specify the output file names\n",
    "json_file2 = 'C:\\A_Sheena\\Cyber\\Module_16Pj3\\Project_3\\Resources\\states.json'"
   ]
  },
  {
   "cell_type": "code",
   "execution_count": 14,
   "id": "2d04c0ac-587f-4a5b-86bf-95367bb585af",
   "metadata": {},
   "outputs": [],
   "source": [
    "# Read data from the CSV file and store it in a list of dictionaries\n",
    "data2 = []\n",
    "with open(csv_file2, 'r') as csvf2:\n",
    "    csv_reader = csv.DictReader(csvf2)\n",
    "    for row in csv_reader:\n",
    "        data2.append(row)"
   ]
  },
  {
   "cell_type": "code",
   "execution_count": 15,
   "id": "7900d9fe-a31f-4cca-b749-f7bc883033f2",
   "metadata": {},
   "outputs": [
    {
     "name": "stdout",
     "output_type": "stream",
     "text": [
      "CSV file \"C:\\A_Sheena\\Cyber\\Module_16Pj3\\Project_3\\Resources\\states.csv\" has been converted to JSON file \"C:\\A_Sheena\\Cyber\\Module_16Pj3\\Project_3\\Resources\\states.json\".\n"
     ]
    }
   ],
   "source": [
    "# Convert the data to JSON and write it to the output file\n",
    "\n",
    "with open(json_file2, 'w') as jsonf:\n",
    "    json.dump(data2, jsonf, indent=4)\n",
    "\n",
    "print(f'CSV file \"{csv_file2}\" has been converted to JSON file \"{json_file2}\".')"
   ]
  },
  {
   "cell_type": "code",
   "execution_count": null,
   "id": "ea90dc84-e3ae-437a-9e28-83c347c850c1",
   "metadata": {},
   "outputs": [],
   "source": []
  }
 ],
 "metadata": {
  "kernelspec": {
   "display_name": "Python 3 (ipykernel)",
   "language": "python",
   "name": "python3"
  },
  "language_info": {
   "codemirror_mode": {
    "name": "ipython",
    "version": 3
   },
   "file_extension": ".py",
   "mimetype": "text/x-python",
   "name": "python",
   "nbconvert_exporter": "python",
   "pygments_lexer": "ipython3",
   "version": "3.11.3"
  }
 },
 "nbformat": 4,
 "nbformat_minor": 5
}
